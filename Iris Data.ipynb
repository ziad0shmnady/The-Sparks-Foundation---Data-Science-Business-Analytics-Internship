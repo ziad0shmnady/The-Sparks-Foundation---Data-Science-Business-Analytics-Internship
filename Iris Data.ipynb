{
 "cells": [
  {
   "cell_type": "markdown",
   "id": "deb344a8",
   "metadata": {},
   "source": [
    "# The Sparks Foundation - Data Science & Business Analytics Internship\n"
   ]
  },
  {
   "cell_type": "markdown",
   "id": "fe30ddfe",
   "metadata": {},
   "source": [
    "## GRIP @ The Sparks Foundation"
   ]
  },
  {
   "cell_type": "markdown",
   "id": "9c0a5421",
   "metadata": {},
   "source": [
    "## By : Ziad Mohamed Shamndy "
   ]
  },
  {
   "cell_type": "markdown",
   "id": "1bbd62d1",
   "metadata": {},
   "source": [
    "### Task2 :Prediction using Unsupervised ML"
   ]
  },
  {
   "cell_type": "markdown",
   "id": "4e8a925b",
   "metadata": {},
   "source": [
    "***"
   ]
  },
  {
   "cell_type": "markdown",
   "id": "84f50f7b",
   "metadata": {},
   "source": [
    "### 1-Import Libararies "
   ]
  },
  {
   "cell_type": "code",
   "execution_count": 1,
   "id": "e30bb7ca",
   "metadata": {},
   "outputs": [],
   "source": [
    "import numpy as np  #linear algebra\n",
    "import pandas as pd # data processing\n",
    "\n",
    "# import libraries for plotting\n",
    "import matplotlib.pyplot as plt\n",
    "import seaborn as sns\n",
    "%matplotlib inline\n",
    "\n",
    "import warnings\n",
    "warnings.filterwarnings(\"ignore\")\n",
    "\n",
    "from sklearn.linear_model import LogisticRegression\n",
    "from sklearn.neighbors import KNeighborsClassifier\n",
    "from sklearn.ensemble import RandomForestClassifier\n",
    "from sklearn.model_selection import ShuffleSplit\n",
    "from sklearn.model_selection import train_test_split, cross_val_score, cross_val_predict\n",
    "from sklearn.metrics import accuracy_score, f1_score\n",
    "from sklearn import datasets\n",
    "from sklearn.cluster import KMeans\n",
    "from sklearn.preprocessing import LabelEncoder\n",
    "\n",
    "from xgboost import XGBClassifier"
   ]
  },
  {
   "cell_type": "markdown",
   "id": "2888ad43",
   "metadata": {},
   "source": [
    "### 2-Import dataset"
   ]
  },
  {
   "cell_type": "code",
   "execution_count": 2,
   "id": "5acc7525",
   "metadata": {},
   "outputs": [],
   "source": [
    "df=pd.read_csv(r'D:\\Class 2020\\Datasets\\Iris.csv')"
   ]
  },
  {
   "cell_type": "markdown",
   "id": "e187273a",
   "metadata": {},
   "source": [
    "### 3-Exploratory data analysis"
   ]
  },
  {
   "cell_type": "markdown",
   "id": "bd87c1d0",
   "metadata": {},
   "source": [
    "- we have imported the data.\n",
    "- now, its time to explore the data to dain insights about it."
   ]
  },
  {
   "cell_type": "markdown",
   "id": "7bab55f0",
   "metadata": {},
   "source": [
    "#### preview the dataset"
   ]
  },
  {
   "cell_type": "code",
   "execution_count": 3,
   "id": "99352b56",
   "metadata": {},
   "outputs": [
    {
     "data": {
      "text/html": [
       "<div>\n",
       "<style scoped>\n",
       "    .dataframe tbody tr th:only-of-type {\n",
       "        vertical-align: middle;\n",
       "    }\n",
       "\n",
       "    .dataframe tbody tr th {\n",
       "        vertical-align: top;\n",
       "    }\n",
       "\n",
       "    .dataframe thead th {\n",
       "        text-align: right;\n",
       "    }\n",
       "</style>\n",
       "<table border=\"1\" class=\"dataframe\">\n",
       "  <thead>\n",
       "    <tr style=\"text-align: right;\">\n",
       "      <th></th>\n",
       "      <th>Id</th>\n",
       "      <th>SepalLengthCm</th>\n",
       "      <th>SepalWidthCm</th>\n",
       "      <th>PetalLengthCm</th>\n",
       "      <th>PetalWidthCm</th>\n",
       "      <th>Species</th>\n",
       "    </tr>\n",
       "  </thead>\n",
       "  <tbody>\n",
       "    <tr>\n",
       "      <th>0</th>\n",
       "      <td>1</td>\n",
       "      <td>5.1</td>\n",
       "      <td>3.5</td>\n",
       "      <td>1.4</td>\n",
       "      <td>0.2</td>\n",
       "      <td>Iris-setosa</td>\n",
       "    </tr>\n",
       "    <tr>\n",
       "      <th>1</th>\n",
       "      <td>2</td>\n",
       "      <td>4.9</td>\n",
       "      <td>3.0</td>\n",
       "      <td>1.4</td>\n",
       "      <td>0.2</td>\n",
       "      <td>Iris-setosa</td>\n",
       "    </tr>\n",
       "    <tr>\n",
       "      <th>2</th>\n",
       "      <td>3</td>\n",
       "      <td>4.7</td>\n",
       "      <td>3.2</td>\n",
       "      <td>1.3</td>\n",
       "      <td>0.2</td>\n",
       "      <td>Iris-setosa</td>\n",
       "    </tr>\n",
       "    <tr>\n",
       "      <th>3</th>\n",
       "      <td>4</td>\n",
       "      <td>4.6</td>\n",
       "      <td>3.1</td>\n",
       "      <td>1.5</td>\n",
       "      <td>0.2</td>\n",
       "      <td>Iris-setosa</td>\n",
       "    </tr>\n",
       "    <tr>\n",
       "      <th>4</th>\n",
       "      <td>5</td>\n",
       "      <td>5.0</td>\n",
       "      <td>3.6</td>\n",
       "      <td>1.4</td>\n",
       "      <td>0.2</td>\n",
       "      <td>Iris-setosa</td>\n",
       "    </tr>\n",
       "  </tbody>\n",
       "</table>\n",
       "</div>"
      ],
      "text/plain": [
       "   Id  SepalLengthCm  SepalWidthCm  PetalLengthCm  PetalWidthCm      Species\n",
       "0   1            5.1           3.5            1.4           0.2  Iris-setosa\n",
       "1   2            4.9           3.0            1.4           0.2  Iris-setosa\n",
       "2   3            4.7           3.2            1.3           0.2  Iris-setosa\n",
       "3   4            4.6           3.1            1.5           0.2  Iris-setosa\n",
       "4   5            5.0           3.6            1.4           0.2  Iris-setosa"
      ]
     },
     "execution_count": 3,
     "metadata": {},
     "output_type": "execute_result"
    }
   ],
   "source": [
    "df.head()"
   ]
  },
  {
   "cell_type": "markdown",
   "id": "5b988026",
   "metadata": {},
   "source": [
    "#### view dimention of dataset "
   ]
  },
  {
   "cell_type": "code",
   "execution_count": 4,
   "id": "60d2aff8",
   "metadata": {},
   "outputs": [
    {
     "data": {
      "text/plain": [
       "(150, 6)"
      ]
     },
     "execution_count": 4,
     "metadata": {},
     "output_type": "execute_result"
    }
   ],
   "source": [
    "df.shape"
   ]
  },
  {
   "cell_type": "markdown",
   "id": "4a50645c",
   "metadata": {},
   "source": [
    "now , we can sea that there are 150 row and 6 column in dataset"
   ]
  },
  {
   "cell_type": "markdown",
   "id": "aa0b6410",
   "metadata": {},
   "source": [
    "#### view columns name "
   ]
  },
  {
   "cell_type": "code",
   "execution_count": 5,
   "id": "a14f69cf",
   "metadata": {},
   "outputs": [
    {
     "data": {
      "text/plain": [
       "Index(['Id', 'SepalLengthCm', 'SepalWidthCm', 'PetalLengthCm', 'PetalWidthCm',\n",
       "       'Species'],\n",
       "      dtype='object')"
      ]
     },
     "execution_count": 5,
     "metadata": {},
     "output_type": "execute_result"
    }
   ],
   "source": [
    "df.columns"
   ]
  },
  {
   "cell_type": "markdown",
   "id": "def2a435",
   "metadata": {},
   "source": [
    "we can see that some of columns are less importand than others such as: id So, we should drop it as follow"
   ]
  },
  {
   "cell_type": "markdown",
   "id": "a30a32ed",
   "metadata": {},
   "source": [
    "#### drop id variable"
   ]
  },
  {
   "cell_type": "code",
   "execution_count": 6,
   "id": "338ab180",
   "metadata": {},
   "outputs": [
    {
     "data": {
      "text/html": [
       "<div>\n",
       "<style scoped>\n",
       "    .dataframe tbody tr th:only-of-type {\n",
       "        vertical-align: middle;\n",
       "    }\n",
       "\n",
       "    .dataframe tbody tr th {\n",
       "        vertical-align: top;\n",
       "    }\n",
       "\n",
       "    .dataframe thead th {\n",
       "        text-align: right;\n",
       "    }\n",
       "</style>\n",
       "<table border=\"1\" class=\"dataframe\">\n",
       "  <thead>\n",
       "    <tr style=\"text-align: right;\">\n",
       "      <th></th>\n",
       "      <th>SepalLengthCm</th>\n",
       "      <th>SepalWidthCm</th>\n",
       "      <th>PetalLengthCm</th>\n",
       "      <th>PetalWidthCm</th>\n",
       "      <th>Species</th>\n",
       "    </tr>\n",
       "  </thead>\n",
       "  <tbody>\n",
       "    <tr>\n",
       "      <th>0</th>\n",
       "      <td>5.1</td>\n",
       "      <td>3.5</td>\n",
       "      <td>1.4</td>\n",
       "      <td>0.2</td>\n",
       "      <td>Iris-setosa</td>\n",
       "    </tr>\n",
       "    <tr>\n",
       "      <th>1</th>\n",
       "      <td>4.9</td>\n",
       "      <td>3.0</td>\n",
       "      <td>1.4</td>\n",
       "      <td>0.2</td>\n",
       "      <td>Iris-setosa</td>\n",
       "    </tr>\n",
       "    <tr>\n",
       "      <th>2</th>\n",
       "      <td>4.7</td>\n",
       "      <td>3.2</td>\n",
       "      <td>1.3</td>\n",
       "      <td>0.2</td>\n",
       "      <td>Iris-setosa</td>\n",
       "    </tr>\n",
       "    <tr>\n",
       "      <th>3</th>\n",
       "      <td>4.6</td>\n",
       "      <td>3.1</td>\n",
       "      <td>1.5</td>\n",
       "      <td>0.2</td>\n",
       "      <td>Iris-setosa</td>\n",
       "    </tr>\n",
       "    <tr>\n",
       "      <th>4</th>\n",
       "      <td>5.0</td>\n",
       "      <td>3.6</td>\n",
       "      <td>1.4</td>\n",
       "      <td>0.2</td>\n",
       "      <td>Iris-setosa</td>\n",
       "    </tr>\n",
       "  </tbody>\n",
       "</table>\n",
       "</div>"
      ],
      "text/plain": [
       "   SepalLengthCm  SepalWidthCm  PetalLengthCm  PetalWidthCm      Species\n",
       "0            5.1           3.5            1.4           0.2  Iris-setosa\n",
       "1            4.9           3.0            1.4           0.2  Iris-setosa\n",
       "2            4.7           3.2            1.3           0.2  Iris-setosa\n",
       "3            4.6           3.1            1.5           0.2  Iris-setosa\n",
       "4            5.0           3.6            1.4           0.2  Iris-setosa"
      ]
     },
     "execution_count": 6,
     "metadata": {},
     "output_type": "execute_result"
    }
   ],
   "source": [
    "df.drop('Id', axis=1, inplace=True)\n",
    "df.head()"
   ]
  },
  {
   "cell_type": "markdown",
   "id": "7f633394",
   "metadata": {},
   "source": [
    "#### Checking For datatypes of the attributes"
   ]
  },
  {
   "cell_type": "code",
   "execution_count": 7,
   "id": "dba79f3a",
   "metadata": {},
   "outputs": [
    {
     "name": "stdout",
     "output_type": "stream",
     "text": [
      "<class 'pandas.core.frame.DataFrame'>\n",
      "RangeIndex: 150 entries, 0 to 149\n",
      "Data columns (total 5 columns):\n",
      " #   Column         Non-Null Count  Dtype  \n",
      "---  ------         --------------  -----  \n",
      " 0   SepalLengthCm  150 non-null    float64\n",
      " 1   SepalWidthCm   150 non-null    float64\n",
      " 2   PetalLengthCm  150 non-null    float64\n",
      " 3   PetalWidthCm   150 non-null    float64\n",
      " 4   Species        150 non-null    object \n",
      "dtypes: float64(4), object(1)\n",
      "memory usage: 6.0+ KB\n"
     ]
    }
   ],
   "source": [
    "df.info()"
   ]
  },
  {
   "cell_type": "markdown",
   "id": "5985aa1f",
   "metadata": {},
   "source": [
    "**comment**\n",
    "\n",
    "   - we can see that that the dataset contains mixture of categorical and numerical variables.\n",
    "   - Numerical variable have data type : float64\n",
    "   - Categorical variable have data type : object"
   ]
  },
  {
   "cell_type": "markdown",
   "id": "a698dfca",
   "metadata": {},
   "source": [
    "#### View statistical properties of dataset"
   ]
  },
  {
   "cell_type": "code",
   "execution_count": 8,
   "id": "75c767f1",
   "metadata": {},
   "outputs": [
    {
     "data": {
      "text/html": [
       "<div>\n",
       "<style scoped>\n",
       "    .dataframe tbody tr th:only-of-type {\n",
       "        vertical-align: middle;\n",
       "    }\n",
       "\n",
       "    .dataframe tbody tr th {\n",
       "        vertical-align: top;\n",
       "    }\n",
       "\n",
       "    .dataframe thead th {\n",
       "        text-align: right;\n",
       "    }\n",
       "</style>\n",
       "<table border=\"1\" class=\"dataframe\">\n",
       "  <thead>\n",
       "    <tr style=\"text-align: right;\">\n",
       "      <th></th>\n",
       "      <th>count</th>\n",
       "      <th>mean</th>\n",
       "      <th>std</th>\n",
       "      <th>min</th>\n",
       "      <th>25%</th>\n",
       "      <th>50%</th>\n",
       "      <th>75%</th>\n",
       "      <th>max</th>\n",
       "    </tr>\n",
       "  </thead>\n",
       "  <tbody>\n",
       "    <tr>\n",
       "      <th>SepalLengthCm</th>\n",
       "      <td>150.0</td>\n",
       "      <td>5.843333</td>\n",
       "      <td>0.828066</td>\n",
       "      <td>4.3</td>\n",
       "      <td>5.1</td>\n",
       "      <td>5.80</td>\n",
       "      <td>6.4</td>\n",
       "      <td>7.9</td>\n",
       "    </tr>\n",
       "    <tr>\n",
       "      <th>SepalWidthCm</th>\n",
       "      <td>150.0</td>\n",
       "      <td>3.054000</td>\n",
       "      <td>0.433594</td>\n",
       "      <td>2.0</td>\n",
       "      <td>2.8</td>\n",
       "      <td>3.00</td>\n",
       "      <td>3.3</td>\n",
       "      <td>4.4</td>\n",
       "    </tr>\n",
       "    <tr>\n",
       "      <th>PetalLengthCm</th>\n",
       "      <td>150.0</td>\n",
       "      <td>3.758667</td>\n",
       "      <td>1.764420</td>\n",
       "      <td>1.0</td>\n",
       "      <td>1.6</td>\n",
       "      <td>4.35</td>\n",
       "      <td>5.1</td>\n",
       "      <td>6.9</td>\n",
       "    </tr>\n",
       "    <tr>\n",
       "      <th>PetalWidthCm</th>\n",
       "      <td>150.0</td>\n",
       "      <td>1.198667</td>\n",
       "      <td>0.763161</td>\n",
       "      <td>0.1</td>\n",
       "      <td>0.3</td>\n",
       "      <td>1.30</td>\n",
       "      <td>1.8</td>\n",
       "      <td>2.5</td>\n",
       "    </tr>\n",
       "  </tbody>\n",
       "</table>\n",
       "</div>"
      ],
      "text/plain": [
       "               count      mean       std  min  25%   50%  75%  max\n",
       "SepalLengthCm  150.0  5.843333  0.828066  4.3  5.1  5.80  6.4  7.9\n",
       "SepalWidthCm   150.0  3.054000  0.433594  2.0  2.8  3.00  3.3  4.4\n",
       "PetalLengthCm  150.0  3.758667  1.764420  1.0  1.6  4.35  5.1  6.9\n",
       "PetalWidthCm   150.0  1.198667  0.763161  0.1  0.3  1.30  1.8  2.5"
      ]
     },
     "execution_count": 8,
     "metadata": {},
     "output_type": "execute_result"
    }
   ],
   "source": [
    "df.describe().T"
   ]
  },
  {
   "cell_type": "markdown",
   "id": "8760e127",
   "metadata": {},
   "source": [
    "#### check for missing value"
   ]
  },
  {
   "cell_type": "code",
   "execution_count": 9,
   "id": "93120ac5",
   "metadata": {},
   "outputs": [
    {
     "data": {
      "text/html": [
       "<div>\n",
       "<style scoped>\n",
       "    .dataframe tbody tr th:only-of-type {\n",
       "        vertical-align: middle;\n",
       "    }\n",
       "\n",
       "    .dataframe tbody tr th {\n",
       "        vertical-align: top;\n",
       "    }\n",
       "\n",
       "    .dataframe thead th {\n",
       "        text-align: right;\n",
       "    }\n",
       "</style>\n",
       "<table border=\"1\" class=\"dataframe\">\n",
       "  <thead>\n",
       "    <tr style=\"text-align: right;\">\n",
       "      <th></th>\n",
       "      <th>number of null values</th>\n",
       "    </tr>\n",
       "  </thead>\n",
       "  <tbody>\n",
       "    <tr>\n",
       "      <th>SepalLengthCm</th>\n",
       "      <td>0</td>\n",
       "    </tr>\n",
       "    <tr>\n",
       "      <th>SepalWidthCm</th>\n",
       "      <td>0</td>\n",
       "    </tr>\n",
       "    <tr>\n",
       "      <th>PetalLengthCm</th>\n",
       "      <td>0</td>\n",
       "    </tr>\n",
       "    <tr>\n",
       "      <th>PetalWidthCm</th>\n",
       "      <td>0</td>\n",
       "    </tr>\n",
       "    <tr>\n",
       "      <th>Species</th>\n",
       "      <td>0</td>\n",
       "    </tr>\n",
       "  </tbody>\n",
       "</table>\n",
       "</div>"
      ],
      "text/plain": [
       "               number of null values\n",
       "SepalLengthCm                      0\n",
       "SepalWidthCm                       0\n",
       "PetalLengthCm                      0\n",
       "PetalWidthCm                       0\n",
       "Species                            0"
      ]
     },
     "execution_count": 9,
     "metadata": {},
     "output_type": "execute_result"
    }
   ],
   "source": [
    "dict={}\n",
    "for i in list(df.columns):\n",
    "    dict[i]=df[i].isnull().sum()\n",
    "pd.DataFrame(dict,index=['number of null values']).transpose() "
   ]
  },
  {
   "cell_type": "markdown",
   "id": "f7ac5700",
   "metadata": {},
   "source": [
    "***"
   ]
  },
  {
   "cell_type": "markdown",
   "id": "8231ccb4",
   "metadata": {},
   "source": [
    "## ㅤㅤㅤㅤㅤㅤㅤㅤㅤㅤㅤㅤㅤㅤㅤData Visualization"
   ]
  },
  {
   "cell_type": "markdown",
   "id": "1674853e",
   "metadata": {},
   "source": [
    "## Pie Plot"
   ]
  },
  {
   "cell_type": "code",
   "execution_count": 10,
   "id": "6ccce83b",
   "metadata": {},
   "outputs": [
    {
     "data": {
      "image/png": "[encoded data removed]",
      "text/plain": [
       "<Figure size 432x432 with 1 Axes>"
      ]
     },
     "metadata": {},
     "output_type": "display_data"
    }
   ],
   "source": [
    "colors = ['gold', 'mediumturquoise', 'darkorange', 'lightgreen']\n",
    "df['Species'].value_counts().plot.pie(explode=[0.1,0.1,0.1],autopct='%1.1f%%',shadow=True,figsize=(6,6),colors=colors);"
   ]
  },
  {
   "cell_type": "markdown",
   "id": "4d492998",
   "metadata": {},
   "source": [
    "## Tree chart"
   ]
  },
  {
   "cell_type": "code",
   "execution_count": 11,
   "id": "3df3f22d",
   "metadata": {},
   "outputs": [
    {
     "data": {
      "text/html": [
       "<div>\n",
       "<style scoped>\n",
       "    .dataframe tbody tr th:only-of-type {\n",
       "        vertical-align: middle;\n",
       "    }\n",
       "\n",
       "    .dataframe tbody tr th {\n",
       "        vertical-align: top;\n",
       "    }\n",
       "\n",
       "    .dataframe thead th {\n",
       "        text-align: right;\n",
       "    }\n",
       "</style>\n",
       "<table border=\"1\" class=\"dataframe\">\n",
       "  <thead>\n",
       "    <tr style=\"text-align: right;\">\n",
       "      <th></th>\n",
       "      <th>Species</th>\n",
       "      <th>counts</th>\n",
       "    </tr>\n",
       "  </thead>\n",
       "  <tbody>\n",
       "    <tr>\n",
       "      <th>0</th>\n",
       "      <td>Iris-setosa</td>\n",
       "      <td>50</td>\n",
       "    </tr>\n",
       "    <tr>\n",
       "      <th>1</th>\n",
       "      <td>Iris-versicolor</td>\n",
       "      <td>50</td>\n",
       "    </tr>\n",
       "    <tr>\n",
       "      <th>2</th>\n",
       "      <td>Iris-virginica</td>\n",
       "      <td>50</td>\n",
       "    </tr>\n",
       "  </tbody>\n",
       "</table>\n",
       "</div>"
      ],
      "text/plain": [
       "           Species  counts\n",
       "0      Iris-setosa      50\n",
       "1  Iris-versicolor      50\n",
       "2   Iris-virginica      50"
      ]
     },
     "execution_count": 11,
     "metadata": {},
     "output_type": "execute_result"
    }
   ],
   "source": [
    "import squarify\n",
    "# in this case we must classification by species \n",
    "tree_data=df.groupby('Species').size().reset_index(name='counts')\n",
    "tree_data"
   ]
  },
  {
   "cell_type": "code",
   "execution_count": 30,
   "id": "df053e26",
   "metadata": {},
   "outputs": [
    {
     "data": {
      "image/png": "[encoded data removed]",
      "text/plain": [
       "<Figure size 432x288 with 1 Axes>"
      ]
     },
     "metadata": {
      "needs_background": "light"
     },
     "output_type": "display_data"
    }
   ],
   "source": [
    "# should convert dataframe to list\n",
    "sizes=tree_data.counts.to_list()\n",
    "np.random.seed(seed=12345)\n",
    "color = plt.cm.Dark2(np.random.rand(len(sizes)))\n",
    "label = list(zip(tree_data.Species,tree_data.counts))\n",
    "squarify.plot(sizes=sizes,color=color,label=label,pad=True)\n",
    "plt.title('Tree Map with Species')\n",
    "# Show the plot\n",
    "plt.show()"
   ]
  },
  {
   "cell_type": "markdown",
   "id": "ba1f3b14",
   "metadata": {},
   "source": [
    "## Sub Plots"
   ]
  },
  {
   "cell_type": "code",
   "execution_count": 13,
   "id": "b64331f7",
   "metadata": {},
   "outputs": [
    {
     "data": {
      "image/png": "[encoded data removed]",
      "text/plain": [
       "<Figure size 864x576 with 4 Axes>"
      ]
     },
     "metadata": {
      "needs_background": "light"
     },
     "output_type": "display_data"
    }
   ],
   "source": [
    "fig, axes = plt.subplots(nrows=2, ncols=2,figsize=(12,8))\n",
    "axes[0,0].hist('SepalLengthCm',bins=15,color='red',alpha=.5,edgecolor='white',data=df)\n",
    "axes[0,0].set_title('SepalLength')\n",
    "axes[0,0].set_xlabel('SepalLength')\n",
    "axes[0,0].set_ylabel('count')\n",
    "\n",
    "axes[0,1].hist('SepalWidthCm',bins=15,color='blue',alpha=.5,edgecolor='white',data=df)\n",
    "axes[0,1].set_title('SepalWidth')\n",
    "axes[0,1].set_xlabel('SepalWidthCm')\n",
    "axes[0,1].set_ylabel('count')\n",
    "\n",
    "axes[1,0].hist('PetalLengthCm',bins=15,color='green',alpha=.5,edgecolor='white',data=df)\n",
    "#axes[1,0].set_title('PetalLength')\n",
    "axes[1,0].set_xlabel('PetalLengthCm')\n",
    "axes[1,0].set_ylabel('count')\n",
    "\n",
    "axes[1,1].hist('PetalWidthCm',bins=15,color='orange',alpha=.5,edgecolor='white',data=df)\n",
    "#axes[1,1].set_title('PetalWidth')\n",
    "axes[1,1].set_xlabel('PetalWidthCm')\n",
    "axes[1,1].set_ylabel('count')\n",
    "\n",
    "plt.show()\n"
   ]
  },
  {
   "cell_type": "markdown",
   "id": "cae245fa",
   "metadata": {},
   "source": [
    "***"
   ]
  },
  {
   "cell_type": "markdown",
   "id": "7eff72c5",
   "metadata": {},
   "source": [
    "# ㅤ           ㅤㅤㅤㅤㅤㅤㅤㅤㅤㅤ          ㅤㅤ          Model Building"
   ]
  },
  {
   "cell_type": "markdown",
   "id": "1732c631",
   "metadata": {},
   "source": [
    "Now, we will build classification models for the Iris dataset. First I'll  show the Supervised Models and then one Unsupervised Model called KNN Clustering.\n",
    "\n",
    "**Supervised Models**\n",
    "\n",
    "📌 **Logistic Regression**: Regression for Classification\n",
    "\n",
    "📌 **K-Nearest Neighbors**: Uses the concept of nearest neighbors\n",
    "\n",
    "📌 **Random Forest Classifier**: Gets a cumulative vote of a number of decision trees\n",
    "\n",
    "📌 **XGBoost Classifier**: Optimized distributed gradient boosting library designed to be highly efficient, flexible and portable. Provides a parallel tree boosting.\n",
    "\n",
    "**Unsupervised Model**\n",
    "\n",
    "📌 **KNN Clustering**"
   ]
  },
  {
   "cell_type": "markdown",
   "id": "de4d4be5",
   "metadata": {},
   "source": [
    "### Supervised Models"
   ]
  },
  {
   "cell_type": "markdown",
   "id": "db73f529",
   "metadata": {},
   "source": [
    "📌 First we'll split the data using **scikit-learn's train_test_split library**.\n",
    "\n",
    "📌 I'll also be using cross_val_score which just like train_test_split to get cross-validation score for better idea about our model."
   ]
  },
  {
   "cell_type": "code",
   "execution_count": 14,
   "id": "490e9919",
   "metadata": {},
   "outputs": [],
   "source": [
    "x=df.drop('Species',axis=1)\n",
    "y=df.Species"
   ]
  },
  {
   "cell_type": "code",
   "execution_count": 15,
   "id": "8771bded",
   "metadata": {},
   "outputs": [],
   "source": [
    "from sklearn.model_selection import train_test_split\n",
    "from sklearn.model_selection import cross_val_score\n",
    "x_train, x_test, y_train, y_test = train_test_split(x, y, test_size=0.3, random_state=101)"
   ]
  },
  {
   "cell_type": "markdown",
   "id": "09ba372b",
   "metadata": {},
   "source": [
    "### Logistic Regression"
   ]
  },
  {
   "cell_type": "code",
   "execution_count": 16,
   "id": "c2f66629",
   "metadata": {},
   "outputs": [
    {
     "name": "stdout",
     "output_type": "stream",
     "text": [
      "0.94 accuracy with a standard deviation of 0.04\n"
     ]
    }
   ],
   "source": [
    "from sklearn.linear_model import LogisticRegression\n",
    "lr = LogisticRegression(max_iter=1000)\n",
    "cv = ShuffleSplit(n_splits=5, test_size=0.3, random_state=101)\n",
    "score = cross_val_score(lr, x, y, cv=cv)\n",
    "print(\"%0.2f accuracy with a standard deviation of %0.2f\" % (score.mean(), score.std()))"
   ]
  },
  {
   "cell_type": "markdown",
   "id": "cdf9cf7a",
   "metadata": {},
   "source": [
    " **we can sea that accuracy with logistic Regression : 94 %**"
   ]
  },
  {
   "cell_type": "markdown",
   "id": "1a3b048a",
   "metadata": {},
   "source": [
    "***"
   ]
  },
  {
   "cell_type": "markdown",
   "id": "a82fe3a7",
   "metadata": {},
   "source": [
    "### KNN"
   ]
  },
  {
   "cell_type": "code",
   "execution_count": 17,
   "id": "4f13a400",
   "metadata": {},
   "outputs": [
    {
     "name": "stdout",
     "output_type": "stream",
     "text": [
      "0.96 accuracy with a standard deviation of 0.05\n"
     ]
    }
   ],
   "source": [
    "knn = KNeighborsClassifier()\n",
    "cv = ShuffleSplit(n_splits=5, test_size=0.3, random_state=101)\n",
    "score = cross_val_score(knn, x, y, cv=cv)\n",
    "print(\"%0.2f accuracy with a standard deviation of %0.2f\" % (score.mean(), score.std()))"
   ]
  },
  {
   "cell_type": "markdown",
   "id": "75ed3833",
   "metadata": {},
   "source": [
    " **we can sea that accuracy with KNN : 96 %**"
   ]
  },
  {
   "cell_type": "markdown",
   "id": "809f585c",
   "metadata": {},
   "source": [
    "***"
   ]
  },
  {
   "cell_type": "markdown",
   "id": "7a902585",
   "metadata": {},
   "source": [
    "### Random Forest Classifier"
   ]
  },
  {
   "cell_type": "code",
   "execution_count": 18,
   "id": "f314b193",
   "metadata": {},
   "outputs": [
    {
     "name": "stdout",
     "output_type": "stream",
     "text": [
      "0.93 accuracy with a standard deviation of 0.03\n"
     ]
    }
   ],
   "source": [
    "rfc = RandomForestClassifier()\n",
    "cv = ShuffleSplit(n_splits=5, test_size=0.3, random_state=101)\n",
    "score = cross_val_score(rfc, x, y, cv=cv)\n",
    "print(\"%0.2f accuracy with a standard deviation of %0.2f\" % (score.mean(), score.std()))"
   ]
  },
  {
   "cell_type": "markdown",
   "id": "904ba54b",
   "metadata": {},
   "source": [
    "**we can sea that accuracy with Random Forest Classifier : 93 %**"
   ]
  },
  {
   "cell_type": "markdown",
   "id": "3d99e267",
   "metadata": {},
   "source": [
    "### XGBoost Classifier"
   ]
  },
  {
   "cell_type": "code",
   "execution_count": 19,
   "id": "1027493d",
   "metadata": {},
   "outputs": [
    {
     "name": "stdout",
     "output_type": "stream",
     "text": [
      "0.94 accuracy with a standard deviation of 0.03\n"
     ]
    }
   ],
   "source": [
    "xgb = XGBClassifier(verbosity=0)\n",
    "cv = ShuffleSplit(n_splits=5, test_size=0.3, random_state=101)\n",
    "score = cross_val_score(xgb, x, y, cv=cv)\n",
    "print(\"%0.2f accuracy with a standard deviation of %0.2f\" % (score.mean(), score.std()))"
   ]
  },
  {
   "cell_type": "markdown",
   "id": "30f194ad",
   "metadata": {},
   "source": [
    "**we can sea that accuracy with XGBoost Classifier : 94 %**"
   ]
  },
  {
   "cell_type": "markdown",
   "id": "308998d1",
   "metadata": {},
   "source": [
    "***"
   ]
  },
  {
   "cell_type": "markdown",
   "id": "caacfef7",
   "metadata": {},
   "source": [
    "**Conclusion from supervised Learning** \n",
    " - The accuracy with **logistic Regression** : 94 %\n",
    " - The accuracy with **KNN** : 96 %\n",
    " - The accuracy with **Random Forest Classifier** : 93 %\n",
    " - The accuracy with **XGBoost Classifier** : 94 %"
   ]
  },
  {
   "cell_type": "markdown",
   "id": "1711198a",
   "metadata": {},
   "source": [
    "## Unsupervised Learning "
   ]
  },
  {
   "cell_type": "markdown",
   "id": "7effbd49",
   "metadata": {},
   "source": [
    "### KNN Clustering"
   ]
  },
  {
   "cell_type": "markdown",
   "id": "048d75a3",
   "metadata": {},
   "source": [
    "📌 LabelEncoder can be used to encode categorical values to numerical values as all the Machine Learning models understand only numerical values."
   ]
  },
  {
   "cell_type": "code",
   "execution_count": 21,
   "id": "4bf8f120",
   "metadata": {},
   "outputs": [],
   "source": [
    "df['Species'] = LabelEncoder().fit_transform(df['Species'])"
   ]
  },
  {
   "cell_type": "markdown",
   "id": "4ed3a36d",
   "metadata": {},
   "source": [
    "now , we converted Spacies variable from Categorecal to Numerical Data "
   ]
  },
  {
   "cell_type": "markdown",
   "id": "ef481164",
   "metadata": {},
   "source": [
    "📌 Now, in order to measure the accuracy of **KNN Clustering** we cannot use the traditional accuracy measures. Here, we use one of the measure Inertia to assess the accuracy of a clustering model. Lower the Inertia, the better the model."
   ]
  },
  {
   "cell_type": "code",
   "execution_count": 24,
   "id": "fabfd797",
   "metadata": {},
   "outputs": [],
   "source": [
    "val = df.iloc[:, [0, 1, 2, 3]].values\n",
    "\n",
    "inertia = []\n",
    "\n",
    "for i in range(1, 11):\n",
    "    kmeans = KMeans(n_clusters = i, init = 'k-means++', max_iter = 300, n_init = 10, random_state = 0)\n",
    "    kmeans.fit(val)\n",
    "    inertia.append(kmeans.inertia_)"
   ]
  },
  {
   "cell_type": "markdown",
   "id": "1ab352c5",
   "metadata": {},
   "source": [
    "📌 Let's follow the same method like **KNN Classification** for checking the best value."
   ]
  },
  {
   "cell_type": "code",
   "execution_count": 25,
   "id": "12936811",
   "metadata": {},
   "outputs": [
    {
     "data": {
      "image/png": "[encoded data removed]",
      "text/plain": [
       "<Figure size 432x288 with 1 Axes>"
      ]
     },
     "metadata": {
      "needs_background": "light"
     },
     "output_type": "display_data"
    }
   ],
   "source": [
    "plt.plot(range(1, 11), inertia, marker='o', mfc='r')\n",
    "plt.title('The elbow method')\n",
    "plt.xlabel('Number of clusters')\n",
    "plt.ylabel('Inertia') \n",
    "plt.show()"
   ]
  },
  {
   "cell_type": "markdown",
   "id": "d8feb23e",
   "metadata": {},
   "source": [
    "📌 Well the best is 3. We also need only 3 clusters as we have 3 types of target variables."
   ]
  },
  {
   "cell_type": "code",
   "execution_count": 26,
   "id": "8e73dff8",
   "metadata": {},
   "outputs": [],
   "source": [
    "kmeans = KMeans(n_clusters = 3, init = 'k-means++', max_iter = 300, n_init = 10, random_state = 0)\n",
    "y_kmeans = kmeans.fit(val)\n",
    "labels = y_kmeans.predict(val)"
   ]
  },
  {
   "cell_type": "code",
   "execution_count": 27,
   "id": "2acb2db1",
   "metadata": {},
   "outputs": [],
   "source": [
    "def display_cluster(X,km,num_clusters=0):\n",
    "    color = 'brgcmyk'\n",
    "    alpha = 0.5\n",
    "    s = 20\n",
    "    labels=['Iris-setosa', 'Iris-versicolor', 'Iris-virginica']\n",
    "    plt.figure(figsize=[10, 8])\n",
    "    for i in range(num_clusters):\n",
    "        plt.scatter(X[km.labels_==i,0],X[km.labels_==i,1],c = color[i],alpha = alpha,s=150, label=labels[i])\n",
    "        plt.scatter(km.cluster_centers_[i][0],km.cluster_centers_[i][1],c = 'black', marker = 'o', s = 200)\n",
    "    plt.legend()"
   ]
  },
  {
   "cell_type": "markdown",
   "id": "0024ab35",
   "metadata": {},
   "source": [
    "## Plotting Clusters"
   ]
  },
  {
   "cell_type": "code",
   "execution_count": 28,
   "id": "19127c1f",
   "metadata": {},
   "outputs": [
    {
     "data": {
      "image/png": "[encoded data removed]",
      "text/plain": [
       "<Figure size 720x576 with 1 Axes>"
      ]
     },
     "metadata": {
      "needs_background": "light"
     },
     "output_type": "display_data"
    }
   ],
   "source": [
    "display_cluster(X=val, km=kmeans, num_clusters=3)"
   ]
  }
 ],
 "metadata": {
  "kernelspec": {
   "display_name": "Python 3 (ipykernel)",
   "language": "python",
   "name": "python3"
  },
  "language_info": {
   "codemirror_mode": {
    "name": "ipython",
    "version": 3
   },
   "file_extension": ".py",
   "mimetype": "text/x-python",
   "name": "python",
   "nbconvert_exporter": "python",
   "pygments_lexer": "ipython3",
   "version": "3.9.7"
  }
 },
 "nbformat": 4,
 "nbformat_minor": 5
}
